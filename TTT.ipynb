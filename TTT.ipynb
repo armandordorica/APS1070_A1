{
  "nbformat": 4,
  "nbformat_minor": 0,
  "metadata": {
    "colab": {
      "provenance": [],
      "authorship_tag": "ABX9TyOdb1tfuuEdsEEuIHVRO+5c",
      "include_colab_link": true
    },
    "kernelspec": {
      "name": "python3",
      "display_name": "Python 3"
    },
    "language_info": {
      "name": "python"
    }
  },
  "cells": [
    {
      "cell_type": "markdown",
      "metadata": {
        "id": "view-in-github",
        "colab_type": "text"
      },
      "source": [
        "<a href=\"https://colab.research.google.com/github/armandordorica/APS1070_A1/blob/master/TTT.ipynb\" target=\"_parent\"><img src=\"https://colab.research.google.com/assets/colab-badge.svg\" alt=\"Open In Colab\"/></a>"
      ]
    },
    {
      "cell_type": "code",
      "execution_count": 1,
      "metadata": {
        "id": "-amAc2aVjMBp"
      },
      "outputs": [],
      "source": [
        "\n",
        "import numpy as np\n",
        "import copy \n",
        "import random\n",
        "\n",
        "winning_sequences = [[(0,0), (0,1), (0,2)], [(1,0), (1,1), (1,2)], [(2,0), (2,1), (2,2)], \\\n",
        "                     [(0,0), (1,0), (2,0)], [(0,1), (1,1), (2,1)], [(0,2), (1,2), (2,2)], \\\n",
        "                     [(0,0), (1,1), (2,2)],[(2,0), (1,1), (0,2)]]\n",
        "\n",
        "\n",
        "class Game: \n",
        "  def __init__(self, grid, player1, player2):\n",
        "    self.grid = grid\n",
        "    self.player1 = player1\n",
        "    self.player2 = player2\n",
        "\n",
        "\n",
        "  def play_computer(self): \n",
        "    if len(self.get_viable_winning_sequences_for_computer())>0: \n",
        "      viable_winning_choices = list(set(sum(human_comp_game.get_viable_winning_sequences_for_computer(), [])) - set(human_comp_game.grid.os_positions))\n",
        "\n",
        "      print(f\"viable_winning_choices for computer:{viable_winning_choices}\") \n",
        "      random_comp_choice = random.choice(viable_winning_choices)\n",
        "      (i,j) = random_comp_choice\n",
        "      print(f\"computer attempt to play at: {(i,j)}\")\n",
        "      self.grid.update_value(i,j,self.player2.sign)\n",
        "    else: \n",
        "      random_comp_choice = random.choice(self.grid.available_positions)\n",
        "      (i,j) = random_comp_choice\n",
        "      print(f\"computer attempt to play at: {(i,j)}\")\n",
        "\n",
        "      self.grid.update_value(i,j,self.player2.sign)\n",
        "\n",
        "  def get_viable_winning_sequences_for_computer(self): \n",
        "    possible_winning_sequences = []\n",
        "\n",
        "    for i in range(0,len(self.grid.os_positions)): \n",
        "      for j in range(0,len(winning_sequences)): \n",
        "        if self.grid.os_positions[i] in winning_sequences[j]: \n",
        "          possible_winning_sequences.append(winning_sequences[j])\n",
        "\n",
        "    viable_winning_sequences = []\n",
        "    for i in range(0,len(possible_winning_sequences)): \n",
        "      if len(set(possible_winning_sequences[i]).intersection(set(human_comp_game.grid.xs_positions))) ==0: \n",
        "        viable_winning_sequences.append(possible_winning_sequences[i])\n",
        "    \n",
        "    return viable_winning_sequences\n",
        "\n",
        "  \n",
        "\n",
        "class Player: \n",
        "  def __init__(self, sign, is_human=True):\n",
        "    self.is_human = is_human\n",
        "    self.sign = sign\n",
        "    \n",
        "  \n",
        "\n",
        "\n",
        "class Grid: \n",
        "  def __init__(self):\n",
        "    self.grid = [['', '', ''], ['', '', ''], ['', '', '']]\n",
        "    self.queue = []\n",
        "    self.available_positions = self.get_available_positions()\n",
        "    self.os_positions = []\n",
        "    self.xs_positions = []\n",
        "\n",
        "  def print_grid(self): \n",
        "    for x in self.grid: \n",
        "      print(x)\n",
        "\n",
        "  def reset_board(self): \n",
        "    self.grid = [['', '', ''], ['', '', ''], ['', '', '']]\n",
        "    self.temp_grid = [['', '', ''], ['', '', ''], ['', '', '']]\n",
        "    self.queue = []\n",
        "\n",
        "  def update_value(self, i, j, value): \n",
        "    if self.check_move_validity(i,j,value)==True: \n",
        "        if self.grid[i][j] == '':\n",
        "          ### Either no one has gone or no repeated player\n",
        "          if (len(self.queue)>0 and self.queue[-1]!=value) or len(self.queue)==0:\n",
        "            print(\"update_value - move is valid\")\n",
        "            self.grid[i][j] = value\n",
        "            self.available_positions = self.get_available_positions()\n",
        "            self.queue.append(value)\n",
        "            self.os_positions = self.get_sign_positions('O')\n",
        "            self.xs_positions = self.get_sign_positions('X')\n",
        "\n",
        "        else: \n",
        "          print(f\"The grid at position [i][j] is not empty or wrong turn\")\n",
        "    self.print_grid()\n",
        "\n",
        "    self.get_next_player_allowed()\n",
        "\n",
        "    is_there_a_win = self.check_win()\n",
        "\n",
        "    if is_there_a_win[0] == True: \n",
        "      print(f\"{is_there_a_win[2]} has won\")\n",
        "      print(\"GAME OVER\")\n",
        "    \n",
        "    else: \n",
        "      print(\"No winners yet\")\n",
        "    \n",
        "    \n",
        "    if self.check_full_board() ==True  and is_there_a_win[0] ==False: \n",
        "      print(\"This is a Draw. Game Over. \")\n",
        "    \n",
        "\n",
        "  def get_sign_positions(self,sign): \n",
        "    sign_positions = []\n",
        "\n",
        "    for i in range(3): \n",
        "      for j in range(3): \n",
        "        if self.grid[i][j] ==sign: \n",
        "          sign_positions.append((i,j))\n",
        "\n",
        "    return sign_positions\n",
        "\n",
        "\n",
        "\n",
        "  def check_win(self): \n",
        "    win = 0\n",
        "    winning_sequence = None\n",
        "    winning_string = None\n",
        "    winning_player = None\n",
        "    for i in range(0,len(winning_sequences)): \n",
        "      # print(f\"sequence:{winning_sequences[i]}\")\n",
        "      s = ''\n",
        "      for j in range(0,3): \n",
        "        position = winning_sequences[i][j]\n",
        "        # print(f\"position:{position}\")\n",
        "        x = position[0]\n",
        "        y = position[1]\n",
        "\n",
        "        char_at_pos = self.grid[x][y]\n",
        "        s+=char_at_pos\n",
        "\n",
        "      # print(s)\n",
        "\n",
        "      if len(s) == 3: \n",
        "        # print(f\"WIN with sequence[{winning_sequences[i]}]\")\n",
        "\n",
        "        if s.count('X') == 3: \n",
        "          win = 1\n",
        "          winning_sequence = winning_sequences[i]\n",
        "          winning_string = s\n",
        "          winning_player = 'X'\n",
        "        \n",
        "        elif s.count('O') == 3: \n",
        "          win = 1\n",
        "          winning_sequence = winning_sequences[i]\n",
        "          winning_string = s\n",
        "          winning_player = 'O'\n",
        "\n",
        "    if win==1: \n",
        "      print(f\"Winning_sequence: {winning_sequence}\")\n",
        "      print(f\"Winning Player: {winning_player}\")\n",
        "      print(f\"Winning String: {winning_string}\")\n",
        "      return True, winning_sequence, winning_player \n",
        "    else: \n",
        "      print(f\"No winning sequence\")\n",
        "      return False, winning_sequence, winning_string\n",
        "\n",
        "\n",
        "  def check_move_validity(self, i,j, value): \n",
        "    self.temp_grid = copy.deepcopy(self.grid)\n",
        "    # print(\"before update\")\n",
        "    # print(f\"self.grid:{self.grid}\")\n",
        "    # print(f\"self.temp_grid:{self.temp_grid}\")\n",
        "    self.temp_grid[i][j] = value\n",
        "\n",
        "    # print(\"after update\")\n",
        "    # print(f\"self.grid:{self.grid}\")\n",
        "    # print(f\"self.temp_grid:{self.temp_grid}\")\n",
        "\n",
        "    xs = ''\n",
        "    os = ''\n",
        "    for i in range(0,len(self.temp_grid)):#rows\n",
        "      for j in range(0,len(self.temp_grid[0])): #columns\n",
        "        # print(i,j)\n",
        "        char = self.temp_grid[i][j]\n",
        "\n",
        "        if char =='X': \n",
        "          xs+='X'\n",
        "        \n",
        "        elif char =='O': \n",
        "          os+='O'\n",
        "        \n",
        "        elif char !='O' and char!= 'X' and len(char)>0: \n",
        "          print(f\"Character {char} is invalid\") \n",
        "\n",
        "    num_xs = len(xs)\n",
        "    num_os = len(os)\n",
        "    # print(f\"num_xs: {num_xs}\")\n",
        "    # print(f\"num_os: {num_os}\")\n",
        "\n",
        "    if np.abs(num_xs - num_os) > 1: \n",
        "      print(\"Invalid board. Someone skipped turns\")\n",
        "      return False\n",
        "    else: \n",
        "      print(\"Board is valid.\")\n",
        "      return True\n",
        "\n",
        "  def check_full_board(self): \n",
        "    xs = ''\n",
        "    os = ''\n",
        "    for i in range(0,len(self.temp_grid)):#rows\n",
        "      for j in range(0,len(self.temp_grid[0])): #columns\n",
        "        # print(i,j)\n",
        "        char = self.temp_grid[i][j]\n",
        "\n",
        "        if char =='X': \n",
        "          xs+='X'\n",
        "        \n",
        "        elif char =='O': \n",
        "          os+='O'\n",
        "        \n",
        "        elif char !='O' and char!= 'X' and len(char)>0: \n",
        "          print(f\"Character {char} is invalid\") \n",
        "\n",
        "    num_xs = len(xs)\n",
        "    num_os = len(os)\n",
        "\n",
        "    # print(num_xs), print(num_os)\n",
        "\n",
        "    if num_xs + num_os == 9: \n",
        "      print(\"Board is full\")\n",
        "      return True\n",
        "    else: \n",
        "      return False \n",
        "\n",
        "  def get_next_player_allowed(self): \n",
        "    \n",
        "    if len(self.queue) == 0: \n",
        "      next_player_allowed = 'X'\n",
        "\n",
        "    elif len(self.queue)>0 and self.queue[-1] == 'X': \n",
        "      next_player_allowed = 'O'\n",
        "      print(f\"Last player was: {self.queue[-1]}\")\n",
        "\n",
        "    elif len(self.queue)>0 and self.queue[-1] == 'O': \n",
        "      next_player_allowed = 'X'\n",
        "      print(f\"Last player was: {self.queue[-1]}\")\n",
        "\n",
        "    else: \n",
        "      print(\"Error in input \")\n",
        "      next_player_allowed = False \n",
        "\n",
        "    print(f\"Next player allowed is: {next_player_allowed} \")\n",
        "    return next_player_allowed\n",
        "  \n",
        "  def get_available_positions(self): \n",
        "    possible_positions = [(i,j) for i in range(3) for j in range(3)]\n",
        "\n",
        "    filled_positions = []\n",
        "    for i in range(0,len(self.grid)): \n",
        "      for j in range(0,len(self.grid)): \n",
        "        if len(self.grid[i][j])>0: \n",
        "          filled_positions.append((i,j))\n",
        "\n",
        "\n",
        "    available_positions = list(set(possible_positions) -set(filled_positions))\n",
        "    available_positions.sort()\n",
        "    \n",
        "    return available_positions\n",
        "\n",
        "\n",
        "      \n",
        "\n",
        "class Cell: \n",
        "  def __init__(self, i,j, value, grid):\n",
        "    self.i = i\n",
        "    self.j = j\n",
        "    self.value = value\n",
        "    self.grid = grid  \n",
        "\n"
      ]
    },
    {
      "cell_type": "markdown",
      "source": [
        "### Initialization of the Grid"
      ],
      "metadata": {
        "id": "iBEDoCQG19Rm"
      }
    },
    {
      "cell_type": "code",
      "source": [
        "ttt = Grid()"
      ],
      "metadata": {
        "id": "A6KYHxCijyqD"
      },
      "execution_count": 2,
      "outputs": []
    },
    {
      "cell_type": "code",
      "source": [
        "ttt.print_grid()"
      ],
      "metadata": {
        "colab": {
          "base_uri": "https://localhost:8080/"
        },
        "id": "i38xmphTj1QH",
        "outputId": "2dc1187b-735d-4719-bc9e-308c4d482d70"
      },
      "execution_count": 3,
      "outputs": [
        {
          "output_type": "stream",
          "name": "stdout",
          "text": [
            "['', '', '']\n",
            "['', '', '']\n",
            "['', '', '']\n"
          ]
        }
      ]
    },
    {
      "cell_type": "code",
      "source": [
        "ttt.available_positions"
      ],
      "metadata": {
        "colab": {
          "base_uri": "https://localhost:8080/"
        },
        "id": "UXEpnST3_gob",
        "outputId": "2efdd141-3d12-4ce7-b232-e14b67416872"
      },
      "execution_count": 4,
      "outputs": [
        {
          "output_type": "execute_result",
          "data": {
            "text/plain": [
              "[(0, 0), (0, 1), (0, 2), (1, 0), (1, 1), (1, 2), (2, 0), (2, 1), (2, 2)]"
            ]
          },
          "metadata": {},
          "execution_count": 4
        }
      ]
    },
    {
      "cell_type": "code",
      "source": [
        "ttt.update_value(0,0,'X')"
      ],
      "metadata": {
        "colab": {
          "base_uri": "https://localhost:8080/"
        },
        "id": "2FqLx3mFj6yM",
        "outputId": "d166ea9b-2318-4926-e768-07d74d610535"
      },
      "execution_count": 5,
      "outputs": [
        {
          "output_type": "stream",
          "name": "stdout",
          "text": [
            "Board is valid.\n",
            "update_value - move is valid\n",
            "['X', '', '']\n",
            "['', '', '']\n",
            "['', '', '']\n",
            "Last player was: X\n",
            "Next player allowed is: O \n",
            "No winning sequence\n",
            "No winners yet\n"
          ]
        }
      ]
    },
    {
      "cell_type": "code",
      "source": [
        "ttt.available_positions"
      ],
      "metadata": {
        "colab": {
          "base_uri": "https://localhost:8080/"
        },
        "id": "pWywa18t_jAR",
        "outputId": "c8b0b927-ee1f-4b80-95fc-c4e2bd62bbaa"
      },
      "execution_count": 6,
      "outputs": [
        {
          "output_type": "execute_result",
          "data": {
            "text/plain": [
              "[(0, 1), (0, 2), (1, 0), (1, 1), (1, 2), (2, 0), (2, 1), (2, 2)]"
            ]
          },
          "metadata": {},
          "execution_count": 6
        }
      ]
    },
    {
      "cell_type": "code",
      "source": [
        "ttt.queue"
      ],
      "metadata": {
        "colab": {
          "base_uri": "https://localhost:8080/"
        },
        "id": "v0y_OUvS4jm5",
        "outputId": "a6626e31-8297-41e5-b6e8-a191acb52462"
      },
      "execution_count": 7,
      "outputs": [
        {
          "output_type": "execute_result",
          "data": {
            "text/plain": [
              "['X']"
            ]
          },
          "metadata": {},
          "execution_count": 7
        }
      ]
    },
    {
      "cell_type": "markdown",
      "source": [
        "### Testing for invalid moves"
      ],
      "metadata": {
        "id": "lU_CPH_x2CL8"
      }
    },
    {
      "cell_type": "code",
      "source": [
        "ttt.update_value(1,1,'X')"
      ],
      "metadata": {
        "colab": {
          "base_uri": "https://localhost:8080/"
        },
        "id": "ztN6RIKUnhoH",
        "outputId": "22f2401c-1e43-4111-a9f2-99301bd27fdf"
      },
      "execution_count": 8,
      "outputs": [
        {
          "output_type": "stream",
          "name": "stdout",
          "text": [
            "Invalid board. Someone skipped turns\n",
            "['X', '', '']\n",
            "['', '', '']\n",
            "['', '', '']\n",
            "Last player was: X\n",
            "Next player allowed is: O \n",
            "No winning sequence\n",
            "No winners yet\n"
          ]
        }
      ]
    },
    {
      "cell_type": "code",
      "source": [
        "ttt.available_positions"
      ],
      "metadata": {
        "colab": {
          "base_uri": "https://localhost:8080/"
        },
        "id": "AwCYhP8I_snw",
        "outputId": "5a66f370-009a-4c51-80b8-32f668ee9ab6"
      },
      "execution_count": 9,
      "outputs": [
        {
          "output_type": "execute_result",
          "data": {
            "text/plain": [
              "[(0, 1), (0, 2), (1, 0), (1, 1), (1, 2), (2, 0), (2, 1), (2, 2)]"
            ]
          },
          "metadata": {},
          "execution_count": 9
        }
      ]
    },
    {
      "cell_type": "code",
      "source": [
        "ttt.queue"
      ],
      "metadata": {
        "colab": {
          "base_uri": "https://localhost:8080/"
        },
        "id": "tyOctgmu4lxd",
        "outputId": "712a5a06-1f2e-4ca9-f72c-1a0f6f6e120e"
      },
      "execution_count": 10,
      "outputs": [
        {
          "output_type": "execute_result",
          "data": {
            "text/plain": [
              "['X']"
            ]
          },
          "metadata": {},
          "execution_count": 10
        }
      ]
    },
    {
      "cell_type": "markdown",
      "source": [
        "### Verifying that state of board was not altered after invalid move"
      ],
      "metadata": {
        "id": "98Iqfnt22EKI"
      }
    },
    {
      "cell_type": "code",
      "source": [
        "ttt.print_grid()"
      ],
      "metadata": {
        "colab": {
          "base_uri": "https://localhost:8080/"
        },
        "id": "sLUGKXkGuzMd",
        "outputId": "4e937b73-f2d8-41c3-a579-06ea0981467e"
      },
      "execution_count": 11,
      "outputs": [
        {
          "output_type": "stream",
          "name": "stdout",
          "text": [
            "['X', '', '']\n",
            "['', '', '']\n",
            "['', '', '']\n"
          ]
        }
      ]
    },
    {
      "cell_type": "code",
      "source": [
        "ttt.update_value(2,2,'X')"
      ],
      "metadata": {
        "colab": {
          "base_uri": "https://localhost:8080/"
        },
        "id": "fSeBBJCKkz6F",
        "outputId": "870475bd-9630-41d1-b4da-db20155c8c3e"
      },
      "execution_count": 12,
      "outputs": [
        {
          "output_type": "stream",
          "name": "stdout",
          "text": [
            "Invalid board. Someone skipped turns\n",
            "['X', '', '']\n",
            "['', '', '']\n",
            "['', '', '']\n",
            "Last player was: X\n",
            "Next player allowed is: O \n",
            "No winning sequence\n",
            "No winners yet\n"
          ]
        }
      ]
    },
    {
      "cell_type": "markdown",
      "source": [
        "### Verifying that board is updated with valid move following invalid move "
      ],
      "metadata": {
        "id": "TKI4PlaA2Jue"
      }
    },
    {
      "cell_type": "code",
      "source": [
        "ttt.update_value(2,2,'O')"
      ],
      "metadata": {
        "colab": {
          "base_uri": "https://localhost:8080/"
        },
        "id": "S6_T76wRqTPl",
        "outputId": "2edbc585-6488-4107-9b87-86543afb8be3"
      },
      "execution_count": 13,
      "outputs": [
        {
          "output_type": "stream",
          "name": "stdout",
          "text": [
            "Board is valid.\n",
            "update_value - move is valid\n",
            "['X', '', '']\n",
            "['', '', '']\n",
            "['', '', 'O']\n",
            "Last player was: O\n",
            "Next player allowed is: X \n",
            "No winning sequence\n",
            "No winners yet\n"
          ]
        }
      ]
    },
    {
      "cell_type": "code",
      "source": [
        "ttt.print_grid()"
      ],
      "metadata": {
        "colab": {
          "base_uri": "https://localhost:8080/"
        },
        "id": "AVJDJes6qQyi",
        "outputId": "51687e07-455e-4664-f575-0656210901e3"
      },
      "execution_count": 14,
      "outputs": [
        {
          "output_type": "stream",
          "name": "stdout",
          "text": [
            "['X', '', '']\n",
            "['', '', '']\n",
            "['', '', 'O']\n"
          ]
        }
      ]
    },
    {
      "cell_type": "code",
      "source": [
        "ttt.check_win()"
      ],
      "metadata": {
        "colab": {
          "base_uri": "https://localhost:8080/"
        },
        "id": "sBYFiMefrg81",
        "outputId": "25e6db99-07b4-4e3a-be36-9992c460ff15"
      },
      "execution_count": 15,
      "outputs": [
        {
          "output_type": "stream",
          "name": "stdout",
          "text": [
            "No winning sequence\n"
          ]
        },
        {
          "output_type": "execute_result",
          "data": {
            "text/plain": [
              "(False, None, None)"
            ]
          },
          "metadata": {},
          "execution_count": 15
        }
      ]
    },
    {
      "cell_type": "code",
      "source": [
        "ttt.update_value(0,1,'X')"
      ],
      "metadata": {
        "colab": {
          "base_uri": "https://localhost:8080/"
        },
        "id": "yyjfZCX0qXiv",
        "outputId": "60e3199c-2071-44fb-b766-6be74695bfcb"
      },
      "execution_count": 16,
      "outputs": [
        {
          "output_type": "stream",
          "name": "stdout",
          "text": [
            "Board is valid.\n",
            "update_value - move is valid\n",
            "['X', 'X', '']\n",
            "['', '', '']\n",
            "['', '', 'O']\n",
            "Last player was: X\n",
            "Next player allowed is: O \n",
            "No winning sequence\n",
            "No winners yet\n"
          ]
        }
      ]
    },
    {
      "cell_type": "code",
      "source": [
        "ttt.check_win()"
      ],
      "metadata": {
        "colab": {
          "base_uri": "https://localhost:8080/"
        },
        "id": "jQ3diytGqe-x",
        "outputId": "8df48cfc-b195-4cfd-bf6c-b9ae61029b97"
      },
      "execution_count": 17,
      "outputs": [
        {
          "output_type": "stream",
          "name": "stdout",
          "text": [
            "No winning sequence\n"
          ]
        },
        {
          "output_type": "execute_result",
          "data": {
            "text/plain": [
              "(False, None, None)"
            ]
          },
          "metadata": {},
          "execution_count": 17
        }
      ]
    },
    {
      "cell_type": "code",
      "source": [
        "ttt.update_value(2,1,'O')"
      ],
      "metadata": {
        "colab": {
          "base_uri": "https://localhost:8080/"
        },
        "id": "tbMvwYmKqdzP",
        "outputId": "4401d76d-dcb5-4ddd-cf0e-a3e904a7f957"
      },
      "execution_count": 18,
      "outputs": [
        {
          "output_type": "stream",
          "name": "stdout",
          "text": [
            "Board is valid.\n",
            "update_value - move is valid\n",
            "['X', 'X', '']\n",
            "['', '', '']\n",
            "['', 'O', 'O']\n",
            "Last player was: O\n",
            "Next player allowed is: X \n",
            "No winning sequence\n",
            "No winners yet\n"
          ]
        }
      ]
    },
    {
      "cell_type": "markdown",
      "source": [
        "### Verifying that game alerts when the game is over and someone has won"
      ],
      "metadata": {
        "id": "GBp7uTVT2SC-"
      }
    },
    {
      "cell_type": "code",
      "source": [
        "ttt.update_value(0,2,'X')"
      ],
      "metadata": {
        "colab": {
          "base_uri": "https://localhost:8080/"
        },
        "id": "1yhBL43gqjCE",
        "outputId": "40e7d731-2da6-4eb5-dfa2-63a42462eb70"
      },
      "execution_count": 19,
      "outputs": [
        {
          "output_type": "stream",
          "name": "stdout",
          "text": [
            "Board is valid.\n",
            "update_value - move is valid\n",
            "['X', 'X', 'X']\n",
            "['', '', '']\n",
            "['', 'O', 'O']\n",
            "Last player was: X\n",
            "Next player allowed is: O \n",
            "Winning_sequence: [(0, 0), (0, 1), (0, 2)]\n",
            "Winning Player: X\n",
            "Winning String: XXX\n",
            "X has won\n",
            "GAME OVER\n"
          ]
        }
      ]
    },
    {
      "cell_type": "code",
      "source": [
        "ttt.check_win()"
      ],
      "metadata": {
        "colab": {
          "base_uri": "https://localhost:8080/"
        },
        "id": "7W_848b4qkzH",
        "outputId": "bce6eb12-2385-4eaa-9cb4-0e03a8d74411"
      },
      "execution_count": 20,
      "outputs": [
        {
          "output_type": "stream",
          "name": "stdout",
          "text": [
            "Winning_sequence: [(0, 0), (0, 1), (0, 2)]\n",
            "Winning Player: X\n",
            "Winning String: XXX\n"
          ]
        },
        {
          "output_type": "execute_result",
          "data": {
            "text/plain": [
              "(True, [(0, 0), (0, 1), (0, 2)], 'X')"
            ]
          },
          "metadata": {},
          "execution_count": 20
        }
      ]
    },
    {
      "cell_type": "markdown",
      "source": [
        "### Reset Functionality "
      ],
      "metadata": {
        "id": "4FS9cmuy15ql"
      }
    },
    {
      "cell_type": "code",
      "source": [
        "ttt.reset_board()\n",
        "ttt.print_grid()"
      ],
      "metadata": {
        "id": "1HNp1Jext8Zg",
        "colab": {
          "base_uri": "https://localhost:8080/"
        },
        "outputId": "4303bc56-96b0-49bd-900b-ae3804a7df6b"
      },
      "execution_count": 21,
      "outputs": [
        {
          "output_type": "stream",
          "name": "stdout",
          "text": [
            "['', '', '']\n",
            "['', '', '']\n",
            "['', '', '']\n"
          ]
        }
      ]
    },
    {
      "cell_type": "code",
      "source": [
        "ttt.grid\n"
      ],
      "metadata": {
        "colab": {
          "base_uri": "https://localhost:8080/"
        },
        "id": "BCGbII49sD8-",
        "outputId": "deda3359-77fb-4663-ec24-513a526d13c5"
      },
      "execution_count": 22,
      "outputs": [
        {
          "output_type": "execute_result",
          "data": {
            "text/plain": [
              "[['', '', ''], ['', '', ''], ['', '', '']]"
            ]
          },
          "metadata": {},
          "execution_count": 22
        }
      ]
    },
    {
      "cell_type": "markdown",
      "source": [
        "### Testing for the case of a draw"
      ],
      "metadata": {
        "id": "k6Wv6FIIsJc_"
      }
    },
    {
      "cell_type": "code",
      "source": [
        "ttt.reset_board()\n",
        "ttt.print_grid()\n"
      ],
      "metadata": {
        "colab": {
          "base_uri": "https://localhost:8080/"
        },
        "id": "Byrr2EVmtr1r",
        "outputId": "160795e4-3a09-4950-dec3-0e6fda3b8d20"
      },
      "execution_count": 23,
      "outputs": [
        {
          "output_type": "stream",
          "name": "stdout",
          "text": [
            "['', '', '']\n",
            "['', '', '']\n",
            "['', '', '']\n"
          ]
        }
      ]
    },
    {
      "cell_type": "code",
      "source": [
        "ttt.update_value(2,1,'O')"
      ],
      "metadata": {
        "colab": {
          "base_uri": "https://localhost:8080/"
        },
        "id": "YCutNsRUsKOr",
        "outputId": "7094e0c0-6a25-4500-81ef-2336bde65a37"
      },
      "execution_count": 24,
      "outputs": [
        {
          "output_type": "stream",
          "name": "stdout",
          "text": [
            "Board is valid.\n",
            "update_value - move is valid\n",
            "['', '', '']\n",
            "['', '', '']\n",
            "['', 'O', '']\n",
            "Last player was: O\n",
            "Next player allowed is: X \n",
            "No winning sequence\n",
            "No winners yet\n"
          ]
        }
      ]
    },
    {
      "cell_type": "code",
      "source": [
        "ttt.update_value(0,0,'X')"
      ],
      "metadata": {
        "colab": {
          "base_uri": "https://localhost:8080/"
        },
        "id": "-LnV0VlRsL5F",
        "outputId": "7c852137-7942-4522-f517-4e57a63ec1f9"
      },
      "execution_count": 25,
      "outputs": [
        {
          "output_type": "stream",
          "name": "stdout",
          "text": [
            "Board is valid.\n",
            "update_value - move is valid\n",
            "['X', '', '']\n",
            "['', '', '']\n",
            "['', 'O', '']\n",
            "Last player was: X\n",
            "Next player allowed is: O \n",
            "No winning sequence\n",
            "No winners yet\n"
          ]
        }
      ]
    },
    {
      "cell_type": "code",
      "source": [
        "ttt.update_value(0,1,'O')"
      ],
      "metadata": {
        "colab": {
          "base_uri": "https://localhost:8080/"
        },
        "id": "vxQNCpb7sOQS",
        "outputId": "60d3a3a0-aa9f-4205-d8a9-54515da9be16"
      },
      "execution_count": 26,
      "outputs": [
        {
          "output_type": "stream",
          "name": "stdout",
          "text": [
            "Board is valid.\n",
            "update_value - move is valid\n",
            "['X', 'O', '']\n",
            "['', '', '']\n",
            "['', 'O', '']\n",
            "Last player was: O\n",
            "Next player allowed is: X \n",
            "No winning sequence\n",
            "No winners yet\n"
          ]
        }
      ]
    },
    {
      "cell_type": "code",
      "source": [
        "ttt.update_value(1,1,'X')"
      ],
      "metadata": {
        "colab": {
          "base_uri": "https://localhost:8080/"
        },
        "id": "4XL75XCLsQ7E",
        "outputId": "8d375774-fc03-410b-8287-5f2aec4ac71f"
      },
      "execution_count": 27,
      "outputs": [
        {
          "output_type": "stream",
          "name": "stdout",
          "text": [
            "Board is valid.\n",
            "update_value - move is valid\n",
            "['X', 'O', '']\n",
            "['', 'X', '']\n",
            "['', 'O', '']\n",
            "Last player was: X\n",
            "Next player allowed is: O \n",
            "No winning sequence\n",
            "No winners yet\n"
          ]
        }
      ]
    },
    {
      "cell_type": "code",
      "source": [
        "ttt.update_value(2,2,'O')"
      ],
      "metadata": {
        "colab": {
          "base_uri": "https://localhost:8080/"
        },
        "id": "1jrUdAxlsTpQ",
        "outputId": "014b73f4-737f-41e1-f6af-70162a2ada17"
      },
      "execution_count": 28,
      "outputs": [
        {
          "output_type": "stream",
          "name": "stdout",
          "text": [
            "Board is valid.\n",
            "update_value - move is valid\n",
            "['X', 'O', '']\n",
            "['', 'X', '']\n",
            "['', 'O', 'O']\n",
            "Last player was: O\n",
            "Next player allowed is: X \n",
            "No winning sequence\n",
            "No winners yet\n"
          ]
        }
      ]
    },
    {
      "cell_type": "code",
      "source": [
        "ttt.update_value(2,0,'X')"
      ],
      "metadata": {
        "colab": {
          "base_uri": "https://localhost:8080/"
        },
        "id": "puv0fX1HsWLu",
        "outputId": "e7eb59d3-7f67-4db6-c15a-ae2e3e0d309e"
      },
      "execution_count": 29,
      "outputs": [
        {
          "output_type": "stream",
          "name": "stdout",
          "text": [
            "Board is valid.\n",
            "update_value - move is valid\n",
            "['X', 'O', '']\n",
            "['', 'X', '']\n",
            "['X', 'O', 'O']\n",
            "Last player was: X\n",
            "Next player allowed is: O \n",
            "No winning sequence\n",
            "No winners yet\n"
          ]
        }
      ]
    },
    {
      "cell_type": "code",
      "source": [
        "ttt.update_value(1,0,'O')"
      ],
      "metadata": {
        "colab": {
          "base_uri": "https://localhost:8080/"
        },
        "id": "y9Gw9eaBscew",
        "outputId": "95216057-2162-44cf-da79-2de6a9a29912"
      },
      "execution_count": 30,
      "outputs": [
        {
          "output_type": "stream",
          "name": "stdout",
          "text": [
            "Board is valid.\n",
            "update_value - move is valid\n",
            "['X', 'O', '']\n",
            "['O', 'X', '']\n",
            "['X', 'O', 'O']\n",
            "Last player was: O\n",
            "Next player allowed is: X \n",
            "No winning sequence\n",
            "No winners yet\n"
          ]
        }
      ]
    },
    {
      "cell_type": "code",
      "source": [
        "ttt.update_value(1,2,'X')"
      ],
      "metadata": {
        "colab": {
          "base_uri": "https://localhost:8080/"
        },
        "id": "e3lB-aazsavG",
        "outputId": "ec291cf1-08fc-4873-a212-d4ffd8f099ed"
      },
      "execution_count": 31,
      "outputs": [
        {
          "output_type": "stream",
          "name": "stdout",
          "text": [
            "Board is valid.\n",
            "update_value - move is valid\n",
            "['X', 'O', '']\n",
            "['O', 'X', 'X']\n",
            "['X', 'O', 'O']\n",
            "Last player was: X\n",
            "Next player allowed is: O \n",
            "No winning sequence\n",
            "No winners yet\n"
          ]
        }
      ]
    },
    {
      "cell_type": "code",
      "source": [
        "ttt.update_value(0,2,'O')"
      ],
      "metadata": {
        "colab": {
          "base_uri": "https://localhost:8080/"
        },
        "id": "IKjcJ9p3snFv",
        "outputId": "0d9c6526-9039-473a-d79d-c4cfe331d487"
      },
      "execution_count": 32,
      "outputs": [
        {
          "output_type": "stream",
          "name": "stdout",
          "text": [
            "Board is valid.\n",
            "update_value - move is valid\n",
            "['X', 'O', 'O']\n",
            "['O', 'X', 'X']\n",
            "['X', 'O', 'O']\n",
            "Last player was: O\n",
            "Next player allowed is: X \n",
            "No winning sequence\n",
            "No winners yet\n",
            "Board is full\n",
            "This is a Draw. Game Over. \n"
          ]
        }
      ]
    },
    {
      "cell_type": "code",
      "source": [
        "ttt.grid"
      ],
      "metadata": {
        "colab": {
          "base_uri": "https://localhost:8080/"
        },
        "id": "1hyn5VWyt6oL",
        "outputId": "3f095be3-fdaa-4760-8bef-f172da5b2095"
      },
      "execution_count": 33,
      "outputs": [
        {
          "output_type": "execute_result",
          "data": {
            "text/plain": [
              "[['X', 'O', 'O'], ['O', 'X', 'X'], ['X', 'O', 'O']]"
            ]
          },
          "metadata": {},
          "execution_count": 33
        }
      ]
    },
    {
      "cell_type": "code",
      "source": [
        "ttt.check_win()[0]"
      ],
      "metadata": {
        "colab": {
          "base_uri": "https://localhost:8080/"
        },
        "id": "-F4WBn2ouI_8",
        "outputId": "badfba48-de93-4327-cc90-1bcb4f32d366"
      },
      "execution_count": 34,
      "outputs": [
        {
          "output_type": "stream",
          "name": "stdout",
          "text": [
            "No winning sequence\n"
          ]
        },
        {
          "output_type": "execute_result",
          "data": {
            "text/plain": [
              "False"
            ]
          },
          "metadata": {},
          "execution_count": 34
        }
      ]
    },
    {
      "cell_type": "code",
      "source": [
        "ttt.check_full_board()"
      ],
      "metadata": {
        "colab": {
          "base_uri": "https://localhost:8080/"
        },
        "id": "66TIPKp9uRDS",
        "outputId": "b9f00d59-b542-434f-b89e-cc1476b6e890"
      },
      "execution_count": 35,
      "outputs": [
        {
          "output_type": "stream",
          "name": "stdout",
          "text": [
            "Board is full\n"
          ]
        },
        {
          "output_type": "execute_result",
          "data": {
            "text/plain": [
              "True"
            ]
          },
          "metadata": {},
          "execution_count": 35
        }
      ]
    },
    {
      "cell_type": "markdown",
      "source": [
        "### Human Player vs Computer using random positioning only "
      ],
      "metadata": {
        "id": "SSp5EWl12gr9"
      }
    },
    {
      "cell_type": "code",
      "source": [
        "human_player = Player('X', True)\n",
        "computer_player = Player('O', False)"
      ],
      "metadata": {
        "id": "kusV_L5x23Ni"
      },
      "execution_count": 36,
      "outputs": []
    },
    {
      "cell_type": "code",
      "source": [
        "ttt.reset_board()\n",
        "ttt.print_grid()\n"
      ],
      "metadata": {
        "colab": {
          "base_uri": "https://localhost:8080/"
        },
        "id": "WqdS7eGw94cp",
        "outputId": "87225f86-1250-4c75-a8c8-334c8ad6fca8"
      },
      "execution_count": 37,
      "outputs": [
        {
          "output_type": "stream",
          "name": "stdout",
          "text": [
            "['', '', '']\n",
            "['', '', '']\n",
            "['', '', '']\n"
          ]
        }
      ]
    },
    {
      "cell_type": "code",
      "source": [
        "human_player.is_human"
      ],
      "metadata": {
        "colab": {
          "base_uri": "https://localhost:8080/"
        },
        "id": "7nGgOhxy3n7J",
        "outputId": "e41649ca-e2a8-4e90-a1a7-2f7b2059314f"
      },
      "execution_count": 38,
      "outputs": [
        {
          "output_type": "execute_result",
          "data": {
            "text/plain": [
              "True"
            ]
          },
          "metadata": {},
          "execution_count": 38
        }
      ]
    },
    {
      "cell_type": "code",
      "source": [
        "computer_player.is_human"
      ],
      "metadata": {
        "colab": {
          "base_uri": "https://localhost:8080/"
        },
        "id": "k9M3gx-t32Bi",
        "outputId": "4aea873e-3e9d-4d6e-f182-373c8b8168b5"
      },
      "execution_count": 39,
      "outputs": [
        {
          "output_type": "execute_result",
          "data": {
            "text/plain": [
              "False"
            ]
          },
          "metadata": {},
          "execution_count": 39
        }
      ]
    },
    {
      "cell_type": "code",
      "source": [
        "human_comp_game = Game(ttt, human_player, computer_player)"
      ],
      "metadata": {
        "id": "eqhxJaSv7EX8"
      },
      "execution_count": 40,
      "outputs": []
    },
    {
      "cell_type": "code",
      "source": [
        "human_comp_game.grid.print_grid()"
      ],
      "metadata": {
        "colab": {
          "base_uri": "https://localhost:8080/"
        },
        "id": "ozTx6ZBh7Ldc",
        "outputId": "0ed45c4d-813e-4457-b5e0-8e0b9f987372"
      },
      "execution_count": 41,
      "outputs": [
        {
          "output_type": "stream",
          "name": "stdout",
          "text": [
            "['', '', '']\n",
            "['', '', '']\n",
            "['', '', '']\n"
          ]
        }
      ]
    },
    {
      "cell_type": "markdown",
      "source": [
        "### Human goes first"
      ],
      "metadata": {
        "id": "OI3yQK21AkKh"
      }
    },
    {
      "cell_type": "code",
      "source": [
        "human_comp_game.grid.print_grid()"
      ],
      "metadata": {
        "colab": {
          "base_uri": "https://localhost:8080/"
        },
        "id": "Xgps5qxkBd2c",
        "outputId": "6bdecea8-bb23-48e7-f2e1-77db63ea651f"
      },
      "execution_count": 42,
      "outputs": [
        {
          "output_type": "stream",
          "name": "stdout",
          "text": [
            "['', '', '']\n",
            "['', '', '']\n",
            "['', '', '']\n"
          ]
        }
      ]
    },
    {
      "cell_type": "code",
      "source": [
        "human_comp_game.grid.update_value(0,1,human_comp_game.player1.sign)"
      ],
      "metadata": {
        "colab": {
          "base_uri": "https://localhost:8080/"
        },
        "id": "_ABygbHJ8X4n",
        "outputId": "1529b69b-9b01-473a-88b0-d0482272a710"
      },
      "execution_count": 43,
      "outputs": [
        {
          "output_type": "stream",
          "name": "stdout",
          "text": [
            "Board is valid.\n",
            "update_value - move is valid\n",
            "['', 'X', '']\n",
            "['', '', '']\n",
            "['', '', '']\n",
            "Last player was: X\n",
            "Next player allowed is: O \n",
            "No winning sequence\n",
            "No winners yet\n"
          ]
        }
      ]
    },
    {
      "cell_type": "code",
      "source": [
        "human_comp_game.grid"
      ],
      "metadata": {
        "colab": {
          "base_uri": "https://localhost:8080/"
        },
        "id": "PuPXILAW87M2",
        "outputId": "ee138185-961f-4e8f-f163-01dafefc21c1"
      },
      "execution_count": 44,
      "outputs": [
        {
          "output_type": "execute_result",
          "data": {
            "text/plain": [
              "<__main__.Grid at 0x7f702cab0ca0>"
            ]
          },
          "metadata": {},
          "execution_count": 44
        }
      ]
    },
    {
      "cell_type": "code",
      "source": [
        "human_comp_game.grid"
      ],
      "metadata": {
        "colab": {
          "base_uri": "https://localhost:8080/"
        },
        "id": "KI6PW_lT8--P",
        "outputId": "c20fb7fc-910b-47db-bffd-c3cc45b853d0"
      },
      "execution_count": 45,
      "outputs": [
        {
          "output_type": "execute_result",
          "data": {
            "text/plain": [
              "<__main__.Grid at 0x7f702cab0ca0>"
            ]
          },
          "metadata": {},
          "execution_count": 45
        }
      ]
    },
    {
      "cell_type": "markdown",
      "source": [
        "### Checking that one player cannot overwrite the board if there is something in it already"
      ],
      "metadata": {
        "id": "rf5BFdaZ9-hV"
      }
    },
    {
      "cell_type": "code",
      "source": [
        "human_comp_game.grid.update_value(0,1,human_comp_game.player2.sign)"
      ],
      "metadata": {
        "colab": {
          "base_uri": "https://localhost:8080/"
        },
        "id": "ftRKyyYN7eaG",
        "outputId": "9e0fb39a-c4e1-4f87-a67e-d3abe236b6ba"
      },
      "execution_count": 46,
      "outputs": [
        {
          "output_type": "stream",
          "name": "stdout",
          "text": [
            "Board is valid.\n",
            "The grid at position [i][j] is not empty or wrong turn\n",
            "['', 'X', '']\n",
            "['', '', '']\n",
            "['', '', '']\n",
            "Last player was: X\n",
            "Next player allowed is: O \n",
            "No winning sequence\n",
            "No winners yet\n"
          ]
        }
      ]
    },
    {
      "cell_type": "code",
      "source": [
        "human_comp_game.grid.update_value(0,1,human_comp_game.player2.sign)"
      ],
      "metadata": {
        "colab": {
          "base_uri": "https://localhost:8080/"
        },
        "id": "exYpgEfw9Yyc",
        "outputId": "f95f56ac-8e86-4954-d024-11c0c45364ee"
      },
      "execution_count": 47,
      "outputs": [
        {
          "output_type": "stream",
          "name": "stdout",
          "text": [
            "Board is valid.\n",
            "The grid at position [i][j] is not empty or wrong turn\n",
            "['', 'X', '']\n",
            "['', '', '']\n",
            "['', '', '']\n",
            "Last player was: X\n",
            "Next player allowed is: O \n",
            "No winning sequence\n",
            "No winners yet\n"
          ]
        }
      ]
    },
    {
      "cell_type": "code",
      "source": [
        "human_comp_game.player2.sign"
      ],
      "metadata": {
        "colab": {
          "base_uri": "https://localhost:8080/",
          "height": 35
        },
        "id": "BwVp-tfl7Tiq",
        "outputId": "f131e746-f9a2-476a-c7f9-23b2fc6ede4d"
      },
      "execution_count": 48,
      "outputs": [
        {
          "output_type": "execute_result",
          "data": {
            "text/plain": [
              "'O'"
            ],
            "application/vnd.google.colaboratory.intrinsic+json": {
              "type": "string"
            }
          },
          "metadata": {},
          "execution_count": 48
        }
      ]
    },
    {
      "cell_type": "code",
      "source": [
        "human_comp_game.grid.update_value(0,1,human_comp_game.player2.sign)"
      ],
      "metadata": {
        "colab": {
          "base_uri": "https://localhost:8080/"
        },
        "id": "B06g82HH7nLX",
        "outputId": "2d15a3a1-73d2-4726-add3-19a6e0818835"
      },
      "execution_count": 49,
      "outputs": [
        {
          "output_type": "stream",
          "name": "stdout",
          "text": [
            "Board is valid.\n",
            "The grid at position [i][j] is not empty or wrong turn\n",
            "['', 'X', '']\n",
            "['', '', '']\n",
            "['', '', '']\n",
            "Last player was: X\n",
            "Next player allowed is: O \n",
            "No winning sequence\n",
            "No winners yet\n"
          ]
        }
      ]
    },
    {
      "cell_type": "code",
      "source": [
        "human_comp_game.grid.available_positions"
      ],
      "metadata": {
        "colab": {
          "base_uri": "https://localhost:8080/"
        },
        "id": "qkJ6HS6C-UJY",
        "outputId": "fe5f86b1-0b66-4c6a-fa33-89606ac930c4"
      },
      "execution_count": 50,
      "outputs": [
        {
          "output_type": "execute_result",
          "data": {
            "text/plain": [
              "[(0, 0), (0, 2), (1, 0), (1, 1), (1, 2), (2, 0), (2, 1), (2, 2)]"
            ]
          },
          "metadata": {},
          "execution_count": 50
        }
      ]
    },
    {
      "cell_type": "code",
      "source": [
        "human_comp_game.grid.get_next_player_allowed()"
      ],
      "metadata": {
        "colab": {
          "base_uri": "https://localhost:8080/",
          "height": 69
        },
        "id": "SWHcjGZs-k2J",
        "outputId": "3d516228-bb77-49b6-d29c-eadee93fbeab"
      },
      "execution_count": 51,
      "outputs": [
        {
          "output_type": "stream",
          "name": "stdout",
          "text": [
            "Last player was: X\n",
            "Next player allowed is: O \n"
          ]
        },
        {
          "output_type": "execute_result",
          "data": {
            "text/plain": [
              "'O'"
            ],
            "application/vnd.google.colaboratory.intrinsic+json": {
              "type": "string"
            }
          },
          "metadata": {},
          "execution_count": 51
        }
      ]
    },
    {
      "cell_type": "markdown",
      "source": [
        "### Computer's Turn"
      ],
      "metadata": {
        "id": "AGiWM4lSAVOR"
      }
    },
    {
      "cell_type": "code",
      "source": [
        "human_comp_game.play_computer()"
      ],
      "metadata": {
        "colab": {
          "base_uri": "https://localhost:8080/"
        },
        "id": "mop1WymZAI4T",
        "outputId": "d5e4ef56-85cb-4900-b49f-9b3df94a2aac"
      },
      "execution_count": 52,
      "outputs": [
        {
          "output_type": "stream",
          "name": "stdout",
          "text": [
            "computer attempt to play at: (1, 2)\n",
            "Board is valid.\n",
            "update_value - move is valid\n",
            "['', 'X', '']\n",
            "['', '', 'O']\n",
            "['', '', '']\n",
            "Last player was: O\n",
            "Next player allowed is: X \n",
            "No winning sequence\n",
            "No winners yet\n"
          ]
        }
      ]
    },
    {
      "cell_type": "code",
      "source": [
        "human_comp_game.grid.queue"
      ],
      "metadata": {
        "colab": {
          "base_uri": "https://localhost:8080/"
        },
        "id": "M4OObznMAQiV",
        "outputId": "2861fe95-8dd3-4f1b-8807-8d6cb8b334c0"
      },
      "execution_count": 53,
      "outputs": [
        {
          "output_type": "execute_result",
          "data": {
            "text/plain": [
              "['X', 'O']"
            ]
          },
          "metadata": {},
          "execution_count": 53
        }
      ]
    },
    {
      "cell_type": "markdown",
      "source": [
        "### Human's Turn"
      ],
      "metadata": {
        "id": "VKDioEGwB_ye"
      }
    },
    {
      "cell_type": "code",
      "source": [
        "human_comp_game.grid.update_value(2,1,human_comp_game.player1.sign)"
      ],
      "metadata": {
        "colab": {
          "base_uri": "https://localhost:8080/"
        },
        "id": "wngsjGyLCJ03",
        "outputId": "45617d50-dd75-4023-df0b-3b3092088801"
      },
      "execution_count": 54,
      "outputs": [
        {
          "output_type": "stream",
          "name": "stdout",
          "text": [
            "Board is valid.\n",
            "update_value - move is valid\n",
            "['', 'X', '']\n",
            "['', '', 'O']\n",
            "['', 'X', '']\n",
            "Last player was: X\n",
            "Next player allowed is: O \n",
            "No winning sequence\n",
            "No winners yet\n"
          ]
        }
      ]
    },
    {
      "cell_type": "markdown",
      "source": [
        "### Computer's turn"
      ],
      "metadata": {
        "id": "W__FsuI9CPeT"
      }
    },
    {
      "cell_type": "code",
      "source": [
        "human_comp_game.play_computer()"
      ],
      "metadata": {
        "colab": {
          "base_uri": "https://localhost:8080/"
        },
        "id": "E_O5wf7FCAgt",
        "outputId": "b02b5b1c-f8fd-482c-c748-d6025eebc41d"
      },
      "execution_count": 55,
      "outputs": [
        {
          "output_type": "stream",
          "name": "stdout",
          "text": [
            "viable_winning_choices for computer:[(1, 0), (1, 1), (2, 2), (0, 2)]\n",
            "computer attempt to play at: (2, 2)\n",
            "Board is valid.\n",
            "update_value - move is valid\n",
            "['', 'X', '']\n",
            "['', '', 'O']\n",
            "['', 'X', 'O']\n",
            "Last player was: O\n",
            "Next player allowed is: X \n",
            "No winning sequence\n",
            "No winners yet\n"
          ]
        }
      ]
    },
    {
      "cell_type": "markdown",
      "source": [
        "### Human's Turn"
      ],
      "metadata": {
        "id": "Z27IBMHSCUjd"
      }
    },
    {
      "cell_type": "code",
      "source": [
        "human_comp_game.grid.update_value(2,2,human_comp_game.player1.sign)"
      ],
      "metadata": {
        "colab": {
          "base_uri": "https://localhost:8080/"
        },
        "id": "NIRYyloFCVSp",
        "outputId": "6f145731-5b28-4f70-b929-393ae6b43c51"
      },
      "execution_count": 56,
      "outputs": [
        {
          "output_type": "stream",
          "name": "stdout",
          "text": [
            "Invalid board. Someone skipped turns\n",
            "['', 'X', '']\n",
            "['', '', 'O']\n",
            "['', 'X', 'O']\n",
            "Last player was: O\n",
            "Next player allowed is: X \n",
            "No winning sequence\n",
            "No winners yet\n"
          ]
        }
      ]
    },
    {
      "cell_type": "markdown",
      "source": [
        "### Computer's Turn"
      ],
      "metadata": {
        "id": "pLDujvPyCe6N"
      }
    },
    {
      "cell_type": "code",
      "source": [
        "human_comp_game.play_computer()"
      ],
      "metadata": {
        "colab": {
          "base_uri": "https://localhost:8080/"
        },
        "id": "TS_jZsp_CcN1",
        "outputId": "f935c2b7-4bd5-486d-c7fb-a460eed92823"
      },
      "execution_count": 57,
      "outputs": [
        {
          "output_type": "stream",
          "name": "stdout",
          "text": [
            "viable_winning_choices for computer:[(1, 0), (0, 2), (1, 1), (0, 0)]\n",
            "computer attempt to play at: (1, 1)\n",
            "Board is valid.\n",
            "['', 'X', '']\n",
            "['', '', 'O']\n",
            "['', 'X', 'O']\n",
            "Last player was: O\n",
            "Next player allowed is: X \n",
            "No winning sequence\n",
            "No winners yet\n"
          ]
        }
      ]
    },
    {
      "cell_type": "markdown",
      "source": [
        "### Human's Turn"
      ],
      "metadata": {
        "id": "P6QGlGJdDWN3"
      }
    },
    {
      "cell_type": "code",
      "source": [
        "human_comp_game.grid.update_value(0,0,human_comp_game.player1.sign)"
      ],
      "metadata": {
        "colab": {
          "base_uri": "https://localhost:8080/"
        },
        "id": "RZN6I0yXDPOv",
        "outputId": "febe59c8-4d60-4840-c15e-cc3cfe7ef26d"
      },
      "execution_count": 58,
      "outputs": [
        {
          "output_type": "stream",
          "name": "stdout",
          "text": [
            "Board is valid.\n",
            "update_value - move is valid\n",
            "['X', 'X', '']\n",
            "['', '', 'O']\n",
            "['', 'X', 'O']\n",
            "Last player was: X\n",
            "Next player allowed is: O \n",
            "No winning sequence\n",
            "No winners yet\n"
          ]
        }
      ]
    },
    {
      "cell_type": "markdown",
      "source": [
        "### Computer's Turn"
      ],
      "metadata": {
        "id": "EhUw272ODc2F"
      }
    },
    {
      "cell_type": "code",
      "source": [
        "human_comp_game.play_computer()"
      ],
      "metadata": {
        "colab": {
          "base_uri": "https://localhost:8080/"
        },
        "id": "q5sjdzoSDPM7",
        "outputId": "049e4d15-9a4f-4f6c-95e4-7793cbd15948"
      },
      "execution_count": 59,
      "outputs": [
        {
          "output_type": "stream",
          "name": "stdout",
          "text": [
            "viable_winning_choices for computer:[(1, 0), (1, 1), (0, 2)]\n",
            "computer attempt to play at: (1, 1)\n",
            "Board is valid.\n",
            "update_value - move is valid\n",
            "['X', 'X', '']\n",
            "['', 'O', 'O']\n",
            "['', 'X', 'O']\n",
            "Last player was: O\n",
            "Next player allowed is: X \n",
            "No winning sequence\n",
            "No winners yet\n"
          ]
        }
      ]
    },
    {
      "cell_type": "code",
      "source": [
        "human_comp_game.grid.update_value(0,2,human_comp_game.player1.sign)"
      ],
      "metadata": {
        "colab": {
          "base_uri": "https://localhost:8080/"
        },
        "id": "9R5wfpxxDPLP",
        "outputId": "d3583601-447b-41a0-f528-bfc494c98494"
      },
      "execution_count": 60,
      "outputs": [
        {
          "output_type": "stream",
          "name": "stdout",
          "text": [
            "Board is valid.\n",
            "update_value - move is valid\n",
            "['X', 'X', 'X']\n",
            "['', 'O', 'O']\n",
            "['', 'X', 'O']\n",
            "Last player was: X\n",
            "Next player allowed is: O \n",
            "Winning_sequence: [(0, 0), (0, 1), (0, 2)]\n",
            "Winning Player: X\n",
            "Winning String: XXX\n",
            "X has won\n",
            "GAME OVER\n"
          ]
        }
      ]
    },
    {
      "cell_type": "code",
      "source": [],
      "metadata": {
        "id": "WnWEZnDcCgJY"
      },
      "execution_count": 60,
      "outputs": []
    },
    {
      "cell_type": "code",
      "source": [
        "is_game_over = human_comp_game.grid.check_win()[0]\n",
        "is_game_over"
      ],
      "metadata": {
        "colab": {
          "base_uri": "https://localhost:8080/"
        },
        "id": "Un12QWz0CtN7",
        "outputId": "be7a7715-86f3-4168-b3ed-8d8c5f4db70e"
      },
      "execution_count": 61,
      "outputs": [
        {
          "output_type": "stream",
          "name": "stdout",
          "text": [
            "Winning_sequence: [(0, 0), (0, 1), (0, 2)]\n",
            "Winning Player: X\n",
            "Winning String: XXX\n"
          ]
        },
        {
          "output_type": "execute_result",
          "data": {
            "text/plain": [
              "True"
            ]
          },
          "metadata": {},
          "execution_count": 61
        }
      ]
    },
    {
      "cell_type": "markdown",
      "source": [
        "### Running the Game"
      ],
      "metadata": {
        "id": "R22z7wvwEJ4v"
      }
    },
    {
      "cell_type": "code",
      "source": [
        "ttt = Grid()\n",
        "ttt.print_grid()\n",
        "\n",
        "human_player = Player('X', True)\n",
        "computer_player = Player('O', False)\n",
        "\n",
        "human_comp_game = Game(ttt, human_player, computer_player)\n",
        "\n",
        "is_game_over = False\n",
        "\n",
        "counter = 0\n",
        "while not human_comp_game.grid.check_win()[0] and counter<100: \n",
        "  print(f\"Round {counter+1}...\")\n",
        "  # print(\"This is what the current board looks like: \")\n",
        "  # human_comp_game.grid.print_grid()\n",
        "\n",
        "  print(f\"Hello human player.\")\n",
        "  print(f\"Enter i coordinate where you want to place your X\")\n",
        "  i= input()\n",
        "  print(f\"Enter j coordinate where you want to place your X\")\n",
        "  j= input()\n",
        "\n",
        "  print(\"Human Playing...\")\n",
        "  human_comp_game.grid.update_value(int(i),int(j),human_comp_game.player1.sign)\n",
        "\n",
        "  is_game_over = human_comp_game.grid.check_win()[0]\n",
        "  print(f\"Status of the game is {is_game_over}\")\n",
        "\n",
        "  if is_game_over: \n",
        "    break \n",
        "\n",
        "  print(\"\\n\")\n",
        "  print(\"Computer Playing...\")\n",
        "  human_comp_game.play_computer()\n",
        "\n",
        "  if is_game_over: \n",
        "    break \n",
        "\n",
        "  print(\"\\n\")\n",
        "  counter+=1\n"
      ],
      "metadata": {
        "colab": {
          "base_uri": "https://localhost:8080/"
        },
        "id": "SONuSIdxEr0e",
        "outputId": "62ecdf75-d0ca-4c61-b881-e3de3e245719"
      },
      "execution_count": 69,
      "outputs": [
        {
          "output_type": "stream",
          "name": "stdout",
          "text": [
            "['', '', '']\n",
            "['', '', '']\n",
            "['', '', '']\n",
            "No winning sequence\n",
            "Round 1...\n",
            "Hello human player.\n",
            "Enter i coordinate where you want to place your X\n",
            "0\n",
            "Enter j coordinate where you want to place your X\n",
            "0\n",
            "Human Playing...\n",
            "Board is valid.\n",
            "update_value - move is valid\n",
            "['X', '', '']\n",
            "['', '', '']\n",
            "['', '', '']\n",
            "Last player was: X\n",
            "Next player allowed is: O \n",
            "No winning sequence\n",
            "No winners yet\n",
            "No winning sequence\n",
            "Status of the game is False\n",
            "\n",
            "\n",
            "Computer Playing...\n",
            "computer attempt to play at: (1, 2)\n",
            "Board is valid.\n",
            "update_value - move is valid\n",
            "['X', '', '']\n",
            "['', '', 'O']\n",
            "['', '', '']\n",
            "Last player was: O\n",
            "Next player allowed is: X \n",
            "No winning sequence\n",
            "No winners yet\n",
            "\n",
            "\n",
            "No winning sequence\n",
            "Round 2...\n",
            "Hello human player.\n",
            "Enter i coordinate where you want to place your X\n",
            "2\n",
            "Enter j coordinate where you want to place your X\n",
            "2\n",
            "Human Playing...\n",
            "Board is valid.\n",
            "update_value - move is valid\n",
            "['X', '', '']\n",
            "['', '', 'O']\n",
            "['', '', 'X']\n",
            "Last player was: X\n",
            "Next player allowed is: O \n",
            "No winning sequence\n",
            "No winners yet\n",
            "No winning sequence\n",
            "Status of the game is False\n",
            "\n",
            "\n",
            "Computer Playing...\n",
            "viable_winning_choices for computer:[(1, 0), (1, 1)]\n",
            "computer attempt to play at: (1, 0)\n",
            "Board is valid.\n",
            "update_value - move is valid\n",
            "['X', '', '']\n",
            "['O', '', 'O']\n",
            "['', '', 'X']\n",
            "Last player was: O\n",
            "Next player allowed is: X \n",
            "No winning sequence\n",
            "No winners yet\n",
            "\n",
            "\n",
            "No winning sequence\n",
            "Round 3...\n",
            "Hello human player.\n",
            "Enter i coordinate where you want to place your X\n",
            "1\n",
            "Enter j coordinate where you want to place your X\n",
            "1\n",
            "Human Playing...\n",
            "Board is valid.\n",
            "update_value - move is valid\n",
            "['X', '', '']\n",
            "['O', 'X', 'O']\n",
            "['', '', 'X']\n",
            "Last player was: X\n",
            "Next player allowed is: O \n",
            "Winning_sequence: [(0, 0), (1, 1), (2, 2)]\n",
            "Winning Player: X\n",
            "Winning String: XXX\n",
            "X has won\n",
            "GAME OVER\n",
            "Winning_sequence: [(0, 0), (1, 1), (2, 2)]\n",
            "Winning Player: X\n",
            "Winning String: XXX\n",
            "Status of the game is True\n"
          ]
        }
      ]
    },
    {
      "cell_type": "code",
      "source": [],
      "metadata": {
        "id": "EWwcyMxFSoZC"
      },
      "execution_count": null,
      "outputs": []
    }
  ]
}